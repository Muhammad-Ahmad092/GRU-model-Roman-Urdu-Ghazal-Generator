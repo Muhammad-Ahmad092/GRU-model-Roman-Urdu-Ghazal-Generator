{
  "nbformat": 4,
  "nbformat_minor": 0,
  "metadata": {
    "colab": {
      "provenance": [],
      "gpuType": "V28"
    },
    "kernelspec": {
      "name": "python3",
      "display_name": "Python 3"
    },
    "language_info": {
      "name": "python"
    },
    "accelerator": "TPU"
  },
  "cells": [
    {
      "cell_type": "code",
      "source": [
        "import numpy as np\n",
        "import pandas as pd\n",
        "import torch\n",
        "import torch.nn as nn\n",
        "import torch.optim as optim\n",
        "from torch.utils.data import DataLoader, TensorDataset\n",
        "from sklearn.preprocessing import LabelEncoder\n",
        "from torch.nn.utils.rnn import pad_sequence\n",
        "import pickle"
      ],
      "metadata": {
        "id": "aaQaUSzSgIy_"
      },
      "execution_count": 1,
      "outputs": []
    },
    {
      "cell_type": "code",
      "source": [
        "# Load dataset (First 700 rows)\n",
        "data = pd.read_csv(\"Roman-Urdu-Poetry.csv\").iloc[:700]\n",
        "poetry_lines = data[\"Poetry\"].dropna().tolist()\n",
        "\n",
        "# Prepare Text Encoding\n",
        "text = \" \".join(poetry_lines)\n",
        "words = text.split()\n",
        "word_encoder = LabelEncoder()\n",
        "word_encoder.fit(words)\n",
        "\n",
        "word_to_index = {word: i for i, word in enumerate(word_encoder.classes_)}\n",
        "index_to_word = {i: word for word, i in word_to_index.items()}\n"
      ],
      "metadata": {
        "id": "OhIH7luZgIwy"
      },
      "execution_count": 3,
      "outputs": []
    },
    {
      "cell_type": "code",
      "source": [
        "# Convert text to sequences\n",
        "sequences = []\n",
        "for i in range(len(words) - 5):\n",
        "    sequences.append([word_to_index[word] for word in words[i : i + 6]])\n",
        "\n",
        "sequences = np.array(sequences)\n",
        "X, y = sequences[:, :-1], sequences[:, -1]\n",
        "\n",
        "# Convert sequences to PyTorch tensors and pad\n",
        "X = [torch.tensor(seq, dtype=torch.long) for seq in X]\n",
        "X = pad_sequence(X, batch_first=True, padding_value=0)\n",
        "y = torch.tensor(y, dtype=torch.long)\n",
        "\n",
        "dataset = TensorDataset(X, y)\n",
        "dataloader = DataLoader(dataset, batch_size=128, shuffle=True)"
      ],
      "metadata": {
        "id": "fNvFPTz6gItI"
      },
      "execution_count": 4,
      "outputs": []
    },
    {
      "cell_type": "code",
      "source": [
        "# Define the GRU Model\n",
        "class GRUModel(nn.Module):\n",
        "    def __init__(self, vocab_size, embedding_dim=50, hidden_dim=128, output_dim=None):\n",
        "        super(GRUModel, self).__init__()\n",
        "        self.embedding = nn.Embedding(vocab_size, embedding_dim)\n",
        "        self.gru = nn.GRU(embedding_dim, hidden_dim, num_layers=2, batch_first=True)\n",
        "        self.fc1 = nn.Linear(hidden_dim, 128)\n",
        "        self.fc2 = nn.Linear(128, output_dim)\n",
        "        self.relu = nn.ReLU()\n",
        "        self.log_softmax = nn.LogSoftmax(dim=1)\n",
        "\n",
        "    def forward(self, x):\n",
        "        x = self.embedding(x)\n",
        "        x, _ = self.gru(x)\n",
        "        x = self.relu(self.fc1(x[:, -1, :]))  # Use last hidden state\n",
        "        x = self.log_softmax(self.fc2(x))\n",
        "        return x"
      ],
      "metadata": {
        "id": "JdaOJG1XgIrh"
      },
      "execution_count": 5,
      "outputs": []
    },
    {
      "cell_type": "code",
      "source": [
        "# Initialize model\n",
        "vocab_size = len(word_to_index)\n",
        "model = GRUModel(vocab_size=vocab_size, output_dim=vocab_size)\n",
        "\n",
        "# Initialize weights\n",
        "def init_weights(m):\n",
        "    if isinstance(m, nn.Linear):\n",
        "        nn.init.xavier_uniform_(m.weight)\n",
        "    elif isinstance(m, nn.GRU):\n",
        "        for name, param in m.named_parameters():\n",
        "            if \"weight\" in name:\n",
        "                nn.init.xavier_uniform_(param)\n",
        "\n",
        "model.apply(init_weights)\n",
        "\n",
        "criterion = nn.NLLLoss()\n",
        "optimizer = optim.AdamW(model.parameters(), lr=0.001)\n",
        "\n",
        "device = torch.device(\"cuda\" if torch.cuda.is_available() else \"cpu\")\n",
        "model.to(device)\n"
      ],
      "metadata": {
        "colab": {
          "base_uri": "https://localhost:8080/"
        },
        "id": "gw3-_IgDgInf",
        "outputId": "6e36200d-f4ea-45a7-8817-b57125f0ccbd"
      },
      "execution_count": 6,
      "outputs": [
        {
          "output_type": "execute_result",
          "data": {
            "text/plain": [
              "GRUModel(\n",
              "  (embedding): Embedding(11044, 50)\n",
              "  (gru): GRU(50, 128, num_layers=2, batch_first=True)\n",
              "  (fc1): Linear(in_features=128, out_features=128, bias=True)\n",
              "  (fc2): Linear(in_features=128, out_features=11044, bias=True)\n",
              "  (relu): ReLU()\n",
              "  (log_softmax): LogSoftmax(dim=1)\n",
              ")"
            ]
          },
          "metadata": {},
          "execution_count": 6
        }
      ]
    },
    {
      "cell_type": "code",
      "source": [
        "# Train Model\n",
        "epochs = 55\n",
        "for epoch in range(epochs):\n",
        "    model.train()\n",
        "    total_loss = 0\n",
        "    for batch_X, batch_y in dataloader:\n",
        "        batch_X, batch_y = batch_X.to(device), batch_y.to(device)\n",
        "        optimizer.zero_grad()\n",
        "        output = model(batch_X)\n",
        "        loss = criterion(output, batch_y)\n",
        "        loss.backward()\n",
        "        optimizer.step()\n",
        "        total_loss += loss.item()\n",
        "    print(f\"Epoch {epoch+1}/{epochs}, Loss: {total_loss/len(dataloader):.4f}\")\n"
      ],
      "metadata": {
        "colab": {
          "base_uri": "https://localhost:8080/"
        },
        "id": "nNjKvjgvgImF",
        "outputId": "9328580b-7a42-4c53-b3a7-1e7e7294c24c"
      },
      "execution_count": 7,
      "outputs": [
        {
          "output_type": "stream",
          "name": "stdout",
          "text": [
            "Epoch 1/55, Loss: 6.9514\n",
            "Epoch 2/55, Loss: 6.5218\n",
            "Epoch 3/55, Loss: 6.1905\n",
            "Epoch 4/55, Loss: 5.8602\n",
            "Epoch 5/55, Loss: 5.5436\n",
            "Epoch 6/55, Loss: 5.2198\n",
            "Epoch 7/55, Loss: 4.8696\n",
            "Epoch 8/55, Loss: 4.4777\n",
            "Epoch 9/55, Loss: 4.0753\n",
            "Epoch 10/55, Loss: 3.7139\n",
            "Epoch 11/55, Loss: 3.4158\n",
            "Epoch 12/55, Loss: 3.1720\n",
            "Epoch 13/55, Loss: 2.9578\n",
            "Epoch 14/55, Loss: 2.7734\n",
            "Epoch 15/55, Loss: 2.6018\n",
            "Epoch 16/55, Loss: 2.4436\n",
            "Epoch 17/55, Loss: 2.2983\n",
            "Epoch 18/55, Loss: 2.1616\n",
            "Epoch 19/55, Loss: 2.0334\n",
            "Epoch 20/55, Loss: 1.9081\n",
            "Epoch 21/55, Loss: 1.7955\n",
            "Epoch 22/55, Loss: 1.6863\n",
            "Epoch 23/55, Loss: 1.5849\n",
            "Epoch 24/55, Loss: 1.4891\n",
            "Epoch 25/55, Loss: 1.3981\n",
            "Epoch 26/55, Loss: 1.3115\n",
            "Epoch 27/55, Loss: 1.2331\n",
            "Epoch 28/55, Loss: 1.1513\n",
            "Epoch 29/55, Loss: 1.0848\n",
            "Epoch 30/55, Loss: 1.0179\n",
            "Epoch 31/55, Loss: 0.9562\n",
            "Epoch 32/55, Loss: 0.8948\n",
            "Epoch 33/55, Loss: 0.8409\n",
            "Epoch 34/55, Loss: 0.7884\n",
            "Epoch 35/55, Loss: 0.7429\n",
            "Epoch 36/55, Loss: 0.6938\n",
            "Epoch 37/55, Loss: 0.6559\n",
            "Epoch 38/55, Loss: 0.6192\n",
            "Epoch 39/55, Loss: 0.5825\n",
            "Epoch 40/55, Loss: 0.5481\n",
            "Epoch 41/55, Loss: 0.5247\n",
            "Epoch 42/55, Loss: 0.4901\n",
            "Epoch 43/55, Loss: 0.4678\n",
            "Epoch 44/55, Loss: 0.4428\n",
            "Epoch 45/55, Loss: 0.4187\n",
            "Epoch 46/55, Loss: 0.3952\n",
            "Epoch 47/55, Loss: 0.3714\n",
            "Epoch 48/55, Loss: 0.3595\n",
            "Epoch 49/55, Loss: 0.3507\n",
            "Epoch 50/55, Loss: 0.3282\n",
            "Epoch 51/55, Loss: 0.3150\n",
            "Epoch 52/55, Loss: 0.3084\n",
            "Epoch 53/55, Loss: 0.2971\n",
            "Epoch 54/55, Loss: 0.2892\n",
            "Epoch 55/55, Loss: 0.2697\n"
          ]
        }
      ]
    },
    {
      "cell_type": "code",
      "source": [
        "# Save Model\n",
        "torch.save(model.state_dict(), \"Roman_Urdu_model.pth\")\n",
        "torch.save(optimizer.state_dict(), \"optimizer.pth\")\n",
        "# Save Training History\n",
        "with open(\"training_history.pkl\", \"wb\") as f:\n",
        "    pickle.dump({'loss': total_loss}, f)\n"
      ],
      "metadata": {
        "id": "mj9jRQqNgtSO"
      },
      "execution_count": 8,
      "outputs": []
    },
    {
      "cell_type": "code",
      "source": [
        "from google.colab import drive\n",
        "drive.mount('/content/drive')"
      ],
      "metadata": {
        "id": "EwbnGismLoBl"
      },
      "execution_count": null,
      "outputs": []
    }
  ]
}